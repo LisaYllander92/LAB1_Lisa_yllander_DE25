{
 "cells": [
  {
   "cell_type": "markdown",
   "id": "580ec13f",
   "metadata": {},
   "source": [
    "# Task 1\n",
    "- install virtuel inviorment, ipykernel, matplotlib\n",
    "- open text file"
   ]
  },
  {
   "cell_type": "code",
   "execution_count": 137,
   "id": "ce170b3f",
   "metadata": {},
   "outputs": [],
   "source": [
    "# Importing regular expression to work with pattern in the file\n",
    "import re \n",
    "# Importing matplotlib to draw graphs (later)\n",
    "import numpy as np\n",
    "import matplotlib.pyplot as plt\n"
   ]
  },
  {
   "cell_type": "code",
   "execution_count": 139,
   "id": "97f33fd6",
   "metadata": {},
   "outputs": [
    {
     "name": "stdout",
     "output_type": "stream",
     "text": [
      ">SEQ1\n",
      "CGTAACCAATAAAAAAACAAGCTTAACCTAATTC\n",
      ">SEQ2\n",
      "AGCTTAGTTTGGATCTGGCCGGGG\n",
      ">SEQ3\n",
      "GCGGATTTACTCCCCCCAAAAANNAGGGGAGAGCCCAGATAAATGGAGTCTGTGCGTCCACA\n",
      ">SEQ4\n",
      "GCGGATTTACTCAGGGGAGAGCCCAGGGATAAATGGAGTCTGTGCGTCCACA\n"
     ]
    }
   ],
   "source": [
    "# I will start by opening the text file in 'r' (read) mode\n",
    "# Saving the text file to a variable for comfort\n",
    "dna_path = \"dna_raw.txt\"\n",
    "\n",
    "# Using the \"with open\" statement to automatacally close the file \n",
    "with open(dna_path, 'r') as f_read:\n",
    "    dnas = f_read.read().upper() # using the upper() method to make all letters small\n",
    "    print(dnas)"
   ]
  },
  {
   "cell_type": "markdown",
   "id": "030029e6",
   "metadata": {},
   "source": [
    "### Create dictionary"
   ]
  },
  {
   "cell_type": "code",
   "execution_count": 155,
   "id": "ab8425c6",
   "metadata": {},
   "outputs": [
    {
     "name": "stdout",
     "output_type": "stream",
     "text": [
      "{'>SEQ1': 'CGTAACCAATAAAAAAACAAGCTTAACCTAATTC', '>SEQ2': 'AGCTTAGTTTGGATCTGGCCGGGG', '>SEQ3': 'GCGGATTTACTCCCCCCAAAAANNAGGGGAGAGCCCAGATAAATGGAGTCTGTGCGTCCACA', '>SEQ4': 'GCGGATTTACTCAGGGGAGAGCCCAGGGATAAATGGAGTCTGTGCGTCCACA'}\n"
     ]
    }
   ],
   "source": [
    "# Opening the file in 'w' (write) mode to save changes in file \n",
    "with open(dna_path, 'w') as f_write:\n",
    "    f_write.write(dnas)\n",
    "\n",
    "with open(dna_path, 'r') as f_read:\n",
    "    # Using splitlines method to split the string into a list to divied each line to an item\n",
    "    lines = f_read.read().splitlines()\n",
    "    #print(lines)\n",
    "\n",
    "    # I create a empty dictionaryto store the 'keys' and 'value'\n",
    "    seq_dict = {}\n",
    "\n",
    "    # Now i want to loop through and combine ID with the sequence of data\n",
    "    # I use the range()-function to create a sequence of index that goes through the\n",
    "    # list (lines) two step at a time...\n",
    "    # len()-function to get the lenth of the list and stop when the list ends\n",
    "    for i in range(0, len(lines), 2):\n",
    "        # I save the item (>seq) from index 0 (i) in variable seq_id...\n",
    "        seq_id = lines[i]\n",
    "        # and the data ('letters') in variable seq_dna \n",
    "        seq_dna = lines[i+1]\n",
    "        # Here a add the data to my dictionary:\n",
    "        # seq_dict[seq_id] = key (ex >seq1)\n",
    "        # = seq_dna = value (ex 'ABCCAB')\n",
    "        seq_dict[seq_id] = seq_dna\n",
    "print(seq_dict)\n",
    "\n",
    "\n",
    "    \n",
    "\n",
    "\n",
    "        \n"
   ]
  },
  {
   "cell_type": "markdown",
   "id": "3b756f78",
   "metadata": {},
   "source": [
    "#### Count the letters"
   ]
  },
  {
   "cell_type": "code",
   "execution_count": null,
   "id": "28a14cfd",
   "metadata": {},
   "outputs": [
    {
     "name": "stdout",
     "output_type": "stream",
     "text": [
      "[Counter({'A': 17, 'C': 8, 'T': 7, 'G': 2}), Counter({'G': 10, 'T': 7, 'C': 4, 'A': 3}), Counter({'A': 18, 'G': 16, 'C': 16, 'T': 10, 'N': 2}), Counter({'G': 18, 'A': 13, 'C': 11, 'T': 10})]\n"
     ]
    }
   ],
   "source": [
    "# I import Counter (a subclass for dict, tip from Geeksforgeeks) \n",
    "# to count each letter in value\n",
    "from collections import Counter\n",
    "\n",
    "# Creating a list to store counted letters\n",
    "seq_list = []\n",
    "\n",
    "# I use the items() to return a list containing a tuple for each key value pair\n",
    "for seq_id, letters in seq_dict.items():\n",
    "    # Saves the counted letters in 'count'\n",
    "    count = Counter(letters)\n",
    "\n",
    "    # In the loop, i use append() to add the counted letters from each sequence to the list\n",
    "    seq_list.append(count)\n",
    "    \n",
    "    #print(f\"{seq_id}: {dict(count)}\")\n",
    "    #print(count)\n",
    "print(seq_list)\n",
    "    \n",
    "\n",
    "\n"
   ]
  },
  {
   "cell_type": "markdown",
   "id": "5c2d7911",
   "metadata": {},
   "source": [
    "### Create bar chart"
   ]
  },
  {
   "cell_type": "code",
   "execution_count": null,
   "id": "2e4f09da",
   "metadata": {},
   "outputs": [],
   "source": []
  }
 ],
 "metadata": {
  "kernelspec": {
   "display_name": "LAB1_Lisa_yllander_DE25",
   "language": "python",
   "name": "python3"
  },
  "language_info": {
   "codemirror_mode": {
    "name": "ipython",
    "version": 3
   },
   "file_extension": ".py",
   "mimetype": "text/x-python",
   "name": "python",
   "nbconvert_exporter": "python",
   "pygments_lexer": "ipython3",
   "version": "3.12.10"
  }
 },
 "nbformat": 4,
 "nbformat_minor": 5
}
