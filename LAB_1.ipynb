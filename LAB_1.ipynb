{
 "cells": [
  {
   "cell_type": "markdown",
   "id": "580ec13f",
   "metadata": {},
   "source": [
    "# Task 1\n",
    "- install virtuel inviorment, ipykernel, matplotlib\n",
    "- open text file"
   ]
  },
  {
   "cell_type": "code",
   "execution_count": 137,
   "id": "ce170b3f",
   "metadata": {},
   "outputs": [],
   "source": [
    "# Importing regular expression to work with pattern in the file\n",
    "import re \n",
    "# Importing matplotlib to draw graphs (later)\n",
    "import numpy as np\n",
    "import matplotlib.pyplot as plt\n"
   ]
  },
  {
   "cell_type": "code",
   "execution_count": 139,
   "id": "97f33fd6",
   "metadata": {},
   "outputs": [
    {
     "name": "stdout",
     "output_type": "stream",
     "text": [
      ">SEQ1\n",
      "CGTAACCAATAAAAAAACAAGCTTAACCTAATTC\n",
      ">SEQ2\n",
      "AGCTTAGTTTGGATCTGGCCGGGG\n",
      ">SEQ3\n",
      "GCGGATTTACTCCCCCCAAAAANNAGGGGAGAGCCCAGATAAATGGAGTCTGTGCGTCCACA\n",
      ">SEQ4\n",
      "GCGGATTTACTCAGGGGAGAGCCCAGGGATAAATGGAGTCTGTGCGTCCACA\n"
     ]
    }
   ],
   "source": [
    "# I will start by opening the text file in 'r' (read) mode\n",
    "# Saving the text file to a variable for comfort\n",
    "dna_path = \"dna_raw.txt\"\n",
    "\n",
    "# Using the \"with open\" statement to automatacally close the file \n",
    "with open(dna_path, 'r') as f_read:\n",
    "    dnas = f_read.read().upper() # using the upper() method to make all letters small\n",
    "    print(dnas)"
   ]
  },
  {
   "cell_type": "markdown",
   "id": "030029e6",
   "metadata": {},
   "source": [
    "#### Create dictionary"
   ]
  },
  {
   "cell_type": "code",
   "execution_count": 206,
   "id": "ab8425c6",
   "metadata": {},
   "outputs": [
    {
     "name": "stdout",
     "output_type": "stream",
     "text": [
      ">SEQ1\n",
      "CGTAACCAATAAAAAAACAAGCTTAACCTAATTC\n",
      ">SEQ2\n",
      "AGCTTAGTTTGGATCTGGCCGGGG\n",
      ">SEQ3\n",
      "GCGGATTTACTCCCCCCAAAAANNAGGGGAGAGCCCAGATAAATGGAGTCTGTGCGTCCACA\n",
      ">SEQ4\n",
      "GCGGATTTACTCAGGGGAGAGCCCAGGGATAAATGGAGTCTGTGCGTCCACA\n"
     ]
    }
   ],
   "source": [
    "# Opening the file in 'w' (write) mode to save changes in file \n",
    "with open(dna_path, 'w') as f_write:\n",
    "    f_write.write(dnas)\n",
    "\n",
    "with open(dna_path, 'r') as f_read:\n",
    "    # Using splitlines method to split the string into a list to divied each line to an item\n",
    "    lines = f_read.read().splitlines()\n",
    "    #print(lines)\n",
    "\n",
    "    # I create a empty dictionaryto store the 'keys' and 'value'\n",
    "    seq_dict = {}\n",
    "\n",
    "    # Now i want to loop through and combine ID with the sequence of data\n",
    "    # I use the range()-function to create a sequence of index that goes through the\n",
    "    # list (lines) two step at a time...\n",
    "    # len()-function to get the lenth of the list and stop when the list ends\n",
    "    for i in range(0, len(lines), 2):\n",
    "        # I save the item (>seq) from index 0 (i) in variable seq_id...\n",
    "        seq_id = lines[i]\n",
    "        # and the data ('letters') in variable seq_dna \n",
    "        seq_dna = lines[i+1]\n",
    "        # Here a add the data to my dictionary:\n",
    "        # seq_dict[seq_id] = key (ex >seq1)\n",
    "        # = seq_dna = value (ex 'ABCCAB')\n",
    "        seq_dict[seq_id] = seq_dna\n",
    "#print(seq_dict)\n",
    "\n",
    "for key, value in seq_dict.items():\n",
    "    print(key)\n",
    "    print(value)\n",
    "\n",
    "\n",
    "\n",
    "    \n",
    "\n",
    "\n",
    "        \n"
   ]
  },
  {
   "cell_type": "markdown",
   "id": "b7f84b36",
   "metadata": {},
   "source": [
    "#### Count the letters"
   ]
  },
  {
   "cell_type": "code",
   "execution_count": 227,
   "id": "87f8c2ac",
   "metadata": {},
   "outputs": [
    {
     "name": "stdout",
     "output_type": "stream",
     "text": [
      "Dict 1: {'C': 8, 'G': 2, 'T': 7, 'A': 17}\n",
      "Dict 2: {'A': 3, 'G': 10, 'C': 4, 'T': 7}\n",
      "Dict 3: {'G': 16, 'C': 16, 'A': 18, 'T': 10, 'N': 2}\n",
      "Dict 4: {'G': 18, 'C': 11, 'A': 13, 'T': 10}\n"
     ]
    }
   ],
   "source": [
    "# I import Counter (a subclass for dict, tip from Geeksforgeeks) \n",
    "from collections import Counter\n",
    "\n",
    "# I create dictionarys to store key and values from each sequence\n",
    "dict1 = {}\n",
    "dict2 = {}\n",
    "dict3 = {}\n",
    "dict4 = {}\n",
    "\n",
    "try:\n",
    "    # I loop through \n",
    "    # I use the items() to return a list containing a tuple for each key value pair ex. [(key1, value1)]\n",
    "    # enumerate(..) adds an index (i) to each pair so that i = 0 (seq_id = 'seq1', letters = 'ACGAT..') etc\n",
    "    for i, (seq_id, letters) in enumerate(seq_dict.items()):\n",
    "        # Then i use 'Counter' to count each letter in the string 'letters'\n",
    "        # Saves the counted letters in 'count'\n",
    "        count = Counter(letters)\n",
    "        \n",
    "        # Then a use if and elif to add each key and value to its own dictionary\n",
    "        # so that the letters become keys, and the numbers become values.\n",
    "        if i == 0:\n",
    "            dict1 = dict(count)\n",
    "        elif i == 1:\n",
    "            dict2 = dict(count)\n",
    "        elif i == 2:\n",
    "            dict3 = dict(count)\n",
    "        elif i == 3:\n",
    "            dict4 = dict(count)\n",
    "    print(f\"Dict 1: {dict1}\\nDict 2: {dict2}\\nDict 3: {dict3}\\nDict 4: {dict4}\")\n",
    "except SyntaxError: \n",
    "    print(\"There was a syntax error, maybe you forgot a comma\")\n",
    "except:\n",
    "    print(\"Something went wrong, check the code\")"
   ]
  },
  {
   "cell_type": "markdown",
   "id": "30371974",
   "metadata": {},
   "source": [
    "#### Plot bar charts"
   ]
  },
  {
   "cell_type": "code",
   "execution_count": null,
   "id": "9a397cf8",
   "metadata": {},
   "outputs": [],
   "source": []
  }
 ],
 "metadata": {
  "kernelspec": {
   "display_name": "LAB1_Lisa_yllander_DE25",
   "language": "python",
   "name": "python3"
  },
  "language_info": {
   "codemirror_mode": {
    "name": "ipython",
    "version": 3
   },
   "file_extension": ".py",
   "mimetype": "text/x-python",
   "name": "python",
   "nbconvert_exporter": "python",
   "pygments_lexer": "ipython3",
   "version": "3.12.10"
  }
 },
 "nbformat": 4,
 "nbformat_minor": 5
}
