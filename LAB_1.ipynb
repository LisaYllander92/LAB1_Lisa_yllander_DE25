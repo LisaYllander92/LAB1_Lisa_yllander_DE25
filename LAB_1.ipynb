{
 "cells": [
  {
   "cell_type": "markdown",
   "id": "580ec13f",
   "metadata": {},
   "source": [
    "# Task 1\n",
    "- install virtuel inviorment, ipykernel, matplotlib\n",
    "- open text file"
   ]
  },
  {
   "cell_type": "code",
   "execution_count": 5,
   "id": "ce170b3f",
   "metadata": {},
   "outputs": [],
   "source": [
    "# Importing regular expression to work with pattern in the file\n",
    "import re \n",
    "# Importing matplotlib to draw graphs (later)\n",
    "import matplotlib.pyplot as plt\n"
   ]
  },
  {
   "cell_type": "code",
   "execution_count": null,
   "id": "97f33fd6",
   "metadata": {},
   "outputs": [],
   "source": [
    "# I will start by opening the text file in 'r' (read) mode\n",
    "# Saving the text file to a variable for comfort\n",
    "dna_path = \"dna_raw.txt\"\n",
    "\n",
    "# Using the \"with open\" statement to automatacally close the file \n",
    "with open(dna_path, 'r') as f_read:\n",
    "    dnas = f_read.read().upper() # using the upper() method to make all letters small\n",
    "    print(dnas)"
   ]
  },
  {
   "cell_type": "markdown",
   "id": "030029e6",
   "metadata": {},
   "source": [
    "#### Create dictionary"
   ]
  },
  {
   "cell_type": "code",
   "execution_count": null,
   "id": "d50a6068",
   "metadata": {},
   "outputs": [],
   "source": [
    "with open(dna_path, 'r') as f_read:\n",
    "    # Using splitlines method to split the string into a list to divied each line to an item\n",
    "    lines = f_read.read().splitlines()\n",
    "    #print(lines)\n",
    "\n",
    "    # Creating a variable and assignes it a 'None' value (null) to add the titels (keys)\n",
    "    empty_key = None\n",
    "    # I create a empty dictionaryto store the 'keys' and 'value'\n",
    "    seq_dict = {}\n",
    "\n",
    "    # Now i want to loop through and combine 'ID' with the sequence of data (letters)\n",
    "    for line in lines:\n",
    "        # If the line starts with '>' and therefor is a title, i put it into the variable \"empty_key\"\n",
    "        # and then add \"empty_key\" as a 'key' to the dictionary\n",
    "        if line.startswith('>'):\n",
    "            empty_key = line[1:] #1: removes '>', just looks better\n",
    "            seq_dict[empty_key] = \"\"\n",
    "        \n",
    "        # If the line doesn't starts with '>' and therefor is the letters, its added to the dictionary är 'value'\n",
    "        else:\n",
    "            seq_dict[empty_key] += line\n",
    "\n",
    "    \n",
    "    # Prints it out to see how it looks\n",
    "    for key, value in seq_dict.items():\n",
    "        print(key)\n",
    "        print(value)"
   ]
  },
  {
   "cell_type": "markdown",
   "id": "b7f84b36",
   "metadata": {},
   "source": [
    "#### Count the letters"
   ]
  },
  {
   "cell_type": "code",
   "execution_count": null,
   "id": "87f8c2ac",
   "metadata": {},
   "outputs": [
    {
     "name": "stdout",
     "output_type": "stream",
     "text": [
      "Dict 1: {'C': 8, 'G': 2, 'T': 7, 'A': 17}\n",
      "Dict 2: {'A': 3, 'G': 10, 'C': 4, 'T': 7}\n",
      "Dict 3: {'G': 16, 'C': 16, 'A': 18, 'T': 10, 'N': 2}\n",
      "Dict 4: {'G': 18, 'C': 11, 'A': 13, 'T': 10}\n"
     ]
    }
   ],
   "source": [
    "# I import Counter (a subclass for dict, tip from Geeksforgeeks) \n",
    "from collections import Counter\n",
    "\n",
    "# I create dictionarys to store key and values from each sequence\n",
    "dict1 = {}\n",
    "dict2 = {}\n",
    "dict3 = {}\n",
    "dict4 = {}\n",
    "\n",
    "try:\n",
    "    # I loop through the dictionary and for each 'sec_id' (key) and 'letters' (value) in the dictionary, \n",
    "    # each item gets a index (starting from 0) using.. \n",
    "    # .. enumerate(..) adds an index (i) to each pair so that i = 0 (seq_id = 'seq1', letters = 'ACGAT..') etc\n",
    "    # I use the items() to return a list containing a tuple for each key value pair ex. [(key1, value1)]\n",
    "    for i, (seq_id, letters) in enumerate(seq_dict.items()):\n",
    "        \n",
    "        # Then i use 'Counter' to count each letter in the string 'letters'\n",
    "        # Saves the counted letters in 'count'\n",
    "        count = Counter(letters)\n",
    "        \n",
    "        # Then a use if and elif to add each key and value to its own dictionary\n",
    "        # so that the letters become keys, and the numbers become values.\n",
    "        if i == 0:\n",
    "            dict1 = dict(count)\n",
    "        elif i == 1:\n",
    "            dict2 = dict(count)\n",
    "        elif i == 2:\n",
    "            dict3 = dict(count)\n",
    "        elif i == 3:\n",
    "            dict4 = dict(count)\n",
    "    print(f\"Dict 1: {dict1}\\nDict 2: {dict2}\\nDict 3: {dict3}\\nDict 4: {dict4}\")\n",
    "except SyntaxError: \n",
    "    print(\"There was a syntax error, maybe you forgot a comma\")\n",
    "except:\n",
    "    print(\"Something went wrong, check the code\")"
   ]
  },
  {
   "cell_type": "markdown",
   "id": "30371974",
   "metadata": {},
   "source": [
    "#### Plot bar charts"
   ]
  },
  {
   "cell_type": "markdown",
   "id": "c33536e1",
   "metadata": {},
   "source": [
    "Bar chart 'Seq 1'"
   ]
  },
  {
   "cell_type": "code",
   "execution_count": null,
   "id": "9a397cf8",
   "metadata": {},
   "outputs": [],
   "source": [
    "# I wanted my bar charts to be in alphabetically order so I used the \n",
    "# sorted() function tp sort my dictionary before creating 'x' and 'y'\n",
    "dict_1 = dict(sorted(dict1.items())) \n",
    "# I convert my dict to a list and assign the key (the letters) from 'dict1' to 'x'\n",
    "x = list(dict_1.keys())\n",
    "# and the value from 'dict1' to 'y'\n",
    "y = list(dict_1.values())\n",
    "\n",
    "# Then i do plt.bar to get a bar chart with the value of x and y, color is just for fun\n",
    "plt.bar(x, y, color = \"pink\")\n",
    "\n",
    "plt.title(\"DNA sequence 1\")\n",
    "plt.xlabel(\"DNA letters\")\n",
    "plt.ylabel(\"frequency\")\n",
    "plt.show()\n"
   ]
  },
  {
   "cell_type": "markdown",
   "id": "f25cba4b",
   "metadata": {},
   "source": [
    "Bar chart 'seq 2'"
   ]
  },
  {
   "cell_type": "code",
   "execution_count": null,
   "id": "33d7c452",
   "metadata": {},
   "outputs": [],
   "source": [
    "dict_2 = dict(sorted(dict2.items())) \n",
    "\n",
    "x = list(dict_2.keys())\n",
    "y = list(dict_2.values())\n",
    "\n",
    "plt.bar(x, y, color = \"darkblue\")\n",
    "\n",
    "plt.title(\"DNA sequence 2\")\n",
    "plt.xlabel(\"DNA letters\")\n",
    "plt.ylabel(\"frequency\")\n",
    "plt.show()"
   ]
  },
  {
   "cell_type": "markdown",
   "id": "eff3c921",
   "metadata": {},
   "source": [
    "Bar chart 'seq 3'"
   ]
  },
  {
   "cell_type": "code",
   "execution_count": null,
   "id": "8cca4477",
   "metadata": {},
   "outputs": [],
   "source": [
    "dict_3 = dict(sorted(dict3.items())) \n",
    "\n",
    "x = list(dict_3.keys())\n",
    "y = list(dict_3.values())\n",
    "\n",
    "plt.bar(x, y, color = \"purple\")\n",
    "\n",
    "plt.title(\"DNA sequence 3\")\n",
    "plt.xlabel(\"DNA letters\")\n",
    "plt.ylabel(\"frequency\")\n",
    "plt.show()"
   ]
  },
  {
   "cell_type": "markdown",
   "id": "89359236",
   "metadata": {},
   "source": [
    "Bar chart 'seq 4'"
   ]
  },
  {
   "cell_type": "code",
   "execution_count": 17,
   "id": "126d9dba",
   "metadata": {},
   "outputs": [
    {
     "data": {
      "image/png": "[encoded data removed]",
      "text/plain": [
       "<Figure size 640x480 with 1 Axes>"
      ]
     },
     "metadata": {},
     "output_type": "display_data"
    }
   ],
   "source": [
    "dict_4 = dict(sorted(dict4.items())) \n",
    "\n",
    "x = list(dict_4.keys())\n",
    "y = list(dict_4.values())\n",
    "\n",
    "plt.bar(x, y, color = \"lightgreen\")\n",
    "\n",
    "plt.title(\"DNA sequence 4\")\n",
    "plt.xlabel(\"DNA letters\")\n",
    "plt.ylabel(\"frequency\")\n",
    "plt.show()"
   ]
  },
  {
   "cell_type": "markdown",
   "id": "dd5a6809",
   "metadata": {},
   "source": [
    "# Task 2"
   ]
  },
  {
   "cell_type": "markdown",
   "id": "baf8950e",
   "metadata": {},
   "source": [
    "### function to rceive and clean up txt-file"
   ]
  },
  {
   "cell_type": "code",
   "execution_count": null,
   "id": "8ee7091a",
   "metadata": {},
   "outputs": [
    {
     "data": {
      "text/plain": [
       "{'SEQ1': 'CGTAACCAATAAAAAAACAAGCTTAACCTAATTC',\n",
       " 'SEQ2': 'AGCTTAGTTTGGATCTGGCCGGGG',\n",
       " 'SEQ3': 'GCGGATTTACTCCCCCCAAAAANNAGGGGAGAGCCCAGATAAATGGAGTCTGTGCGTCCACAGAATTCGCACCAAATAAAACCTCACCCATAGAGCCCAGAATTTACTCCCC',\n",
       " 'SEQ4': 'GCGGATTTACTCAGGGGAGAGCCCAGGGATAAATGGAGTCTGTGCGTCCACAGAATTCGCACCA'}"
      ]
     },
     "execution_count": 47,
     "metadata": {},
     "output_type": "execute_result"
    }
   ],
   "source": [
    "# I start by creating the 'function'\n",
    "def seq_file(filename):\n",
    "    # Then i create an empty dictionary (like before) to store the keys (titels) and values (letters)\n",
    "    text_dict = {} \n",
    "    # and a variable assigned a 'null value' to store keys\n",
    "    text_key = None \n",
    "\n",
    "    # I open the txt-file in read mode\n",
    "    with open(filename, 'r') as f: \n",
    "        # To avoid issuse I make all letters in the file to upper() and \n",
    "        # splitlines() to make every line a seperate line\n",
    "        file_text = f.read().upper().splitlines() \n",
    "        \n",
    "        # Then i loop through each line in the text file\n",
    "        for i in file_text: \n",
    "            # I use the startswith()-method to see if the line starts with '>',\n",
    "            # and therefor is a title. \n",
    "            if i.startswith('>'): \n",
    "                text_key = i[1:] # i[1:] to remove '>' (just to make it look better)\n",
    "                # Adding each \"title\" (key) to the dictionary and saving it as a key by: \n",
    "                text_dict[text_key] = \"\" # the value is empty for now\n",
    "                \n",
    "            else:\n",
    "                # If the line doesn't starts with '>' then its (hopefully) the lines with letters\n",
    "                # and then its added to the dictionary as a value\n",
    "                text_dict[text_key] += i.strip()#strip() is just to remove (if there's any) spaces\n",
    "\n",
    "        # Then I want to return the dictionary back to my function \n",
    "    return text_dict\n",
    "\n",
    "        \n",
    "# Testing with the \"dna_raw_complicated\"- textfile \n",
    "seq_file(\"dna_raw_complicated.txt\")\n",
    "    \n",
    "\n",
    "    #IT WORKS, YEY ME!\n",
    "        \n",
    "\n",
    "       \n",
    "        \n"
   ]
  },
  {
   "cell_type": "markdown",
   "id": "5f473f88",
   "metadata": {},
   "source": [
    "### function for \"plotting\"\n",
    "- I tried making a function for \"plotting\" with my code from task1, but it didn't work."
   ]
  },
  {
   "cell_type": "code",
   "execution_count": 60,
   "id": "9c52b739",
   "metadata": {},
   "outputs": [],
   "source": [
    "\n",
    "def plot_dict(dna_dict):\n",
    "    \n",
    "    # I use a for-loop (like in task1) to loop through each key and value in the dictionary,\n",
    "    # and give each key and value an index, this time starting from 1\n",
    "    for i, (seq_ids, letter) in enumerate(dna_dict.items()):\n",
    "        # counts each letter in value\n",
    "        count = Counter(letter)\n",
    "\n",
    "\n",
    "\n",
    "\n"
   ]
  }
 ],
 "metadata": {
  "kernelspec": {
   "display_name": "LAB1_Lisa_yllander_DE25",
   "language": "python",
   "name": "python3"
  },
  "language_info": {
   "codemirror_mode": {
    "name": "ipython",
    "version": 3
   },
   "file_extension": ".py",
   "mimetype": "text/x-python",
   "name": "python",
   "nbconvert_exporter": "python",
   "pygments_lexer": "ipython3",
   "version": "3.12.10"
  }
 },
 "nbformat": 4,
 "nbformat_minor": 5
}
