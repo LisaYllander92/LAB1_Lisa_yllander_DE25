{
 "cells": [
  {
   "cell_type": "markdown",
   "id": "580ec13f",
   "metadata": {},
   "source": [
    "# Task 1\n",
    "- install virtuel inviorment, ipykernel, matplotlib\n",
    "- open text file"
   ]
  },
  {
   "cell_type": "code",
   "execution_count": 9,
   "id": "ce170b3f",
   "metadata": {},
   "outputs": [],
   "source": [
    "# Importing regular expression to work with pattern in the file\n",
    "import re \n",
    "# Importing matplotlib to draw graphs (later)\n",
    "import numpy as np\n",
    "import matplotlib.pyplot as plt\n"
   ]
  },
  {
   "cell_type": "code",
   "execution_count": null,
   "id": "97f33fd6",
   "metadata": {},
   "outputs": [],
   "source": [
    "# I will start by opening the text file in 'r' (read) mode\n",
    "# Saving the text file to a variable for comfort\n",
    "dna_path = \"dna_raw.txt\"\n",
    "\n",
    "# Using the \"with open\" statement to automatacally close the file \n",
    "with open(dna_path, 'r') as f_read:\n",
    "    dnas = f_read.read().upper() # using the upper() method to make all letters small\n",
    "    print(dnas)"
   ]
  },
  {
   "cell_type": "markdown",
   "id": "030029e6",
   "metadata": {},
   "source": [
    "#### Create dictionary"
   ]
  },
  {
   "cell_type": "code",
   "execution_count": null,
   "id": "ab8425c6",
   "metadata": {},
   "outputs": [],
   "source": [
    "# Opening the file in 'w' (write) mode to save changes in file \n",
    "with open(dna_path, 'w') as f_write:\n",
    "    f_write.write(dnas)\n",
    "\n",
    "with open(dna_path, 'r') as f_read:\n",
    "    # Using splitlines method to split the string into a list to divied each line to an item\n",
    "    lines = f_read.read().splitlines()\n",
    "    #print(lines)\n",
    "\n",
    "    # I create a empty dictionaryto store the 'keys' and 'value'\n",
    "    seq_dict = {}\n",
    "\n",
    "    # Now i want to loop through and combine ID with the sequence of data\n",
    "    # I use the range()-function to create a sequence of index that goes through the\n",
    "    # list (lines) two step at a time...\n",
    "    # len()-function to get the lenth of the list and stop when the list ends\n",
    "    for i in range(0, len(lines), 2):\n",
    "        # I save the item (>seq) from index 0 (i) in variable seq_id...\n",
    "        seq_id = lines[i]\n",
    "        # and the data ('letters') in variable seq_dna \n",
    "        seq_dna = lines[i+1]\n",
    "        # Here a add the data to my dictionary:\n",
    "        # seq_dict[seq_id] = key (ex >seq1)\n",
    "        # = seq_dna = value (ex 'ABCCAB')\n",
    "        seq_dict[seq_id] = seq_dna\n",
    "#print(seq_dict)\n",
    "\n",
    "for key, value in seq_dict.items():\n",
    "    print(key)\n",
    "    print(value)\n",
    "\n",
    "\n",
    "\n",
    "    \n",
    "\n",
    "\n",
    "        \n"
   ]
  },
  {
   "cell_type": "markdown",
   "id": "b7f84b36",
   "metadata": {},
   "source": [
    "#### Count the letters"
   ]
  },
  {
   "cell_type": "code",
   "execution_count": null,
   "id": "87f8c2ac",
   "metadata": {},
   "outputs": [],
   "source": [
    "# I import Counter (a subclass for dict, tip from Geeksforgeeks) \n",
    "from collections import Counter\n",
    "\n",
    "# I create dictionarys to store key and values from each sequence\n",
    "dict1 = {}\n",
    "dict2 = {}\n",
    "dict3 = {}\n",
    "dict4 = {}\n",
    "\n",
    "try:\n",
    "    # I loop through \n",
    "    # I use the items() to return a list containing a tuple for each key value pair ex. [(key1, value1)]\n",
    "    # enumerate(..) adds an index (i) to each pair so that i = 0 (seq_id = 'seq1', letters = 'ACGAT..') etc\n",
    "    for i, (seq_id, letters) in enumerate(seq_dict.items()):\n",
    "        # Then i use 'Counter' to count each letter in the string 'letters'\n",
    "        # Saves the counted letters in 'count'\n",
    "        count = Counter(letters)\n",
    "        \n",
    "        # Then a use if and elif to add each key and value to its own dictionary\n",
    "        # so that the letters become keys, and the numbers become values.\n",
    "        if i == 0:\n",
    "            dict1 = dict(count)\n",
    "        elif i == 1:\n",
    "            dict2 = dict(count)\n",
    "        elif i == 2:\n",
    "            dict3 = dict(count)\n",
    "        elif i == 3:\n",
    "            dict4 = dict(count)\n",
    "    print(f\"Dict 1: {dict1}\\nDict 2: {dict2}\\nDict 3: {dict3}\\nDict 4: {dict4}\")\n",
    "except SyntaxError: \n",
    "    print(\"There was a syntax error, maybe you forgot a comma\")\n",
    "except:\n",
    "    print(\"Something went wrong, check the code\")"
   ]
  },
  {
   "cell_type": "markdown",
   "id": "30371974",
   "metadata": {},
   "source": [
    "#### Plot bar charts"
   ]
  },
  {
   "cell_type": "markdown",
   "id": "c33536e1",
   "metadata": {},
   "source": [
    "Bar chart 'Seq 1'"
   ]
  },
  {
   "cell_type": "code",
   "execution_count": null,
   "id": "9a397cf8",
   "metadata": {},
   "outputs": [],
   "source": [
    "# I convert my dict to a list and assign the key (the letters) from 'dict1' to 'x'\n",
    "x = list(dict1.keys())\n",
    "# and the value from 'dict1' to 'y'\n",
    "y = list(dict1.values())\n",
    "\n",
    "# Then i do plt.bar to get a bar chart with the value of x and y, color is just for fun\n",
    "plt.bar(x, y, color = \"pink\")\n",
    "\n",
    "plt.title(\"DNA sequence 1\")\n",
    "plt.xlabel(\"DNA letters\")\n",
    "plt.ylabel(\"frequency\")\n",
    "plt.show()\n"
   ]
  },
  {
   "cell_type": "markdown",
   "id": "f25cba4b",
   "metadata": {},
   "source": [
    "Bar chart 'seq 2'"
   ]
  },
  {
   "cell_type": "code",
   "execution_count": null,
   "id": "33d7c452",
   "metadata": {},
   "outputs": [],
   "source": [
    "x = list(dict2.keys())\n",
    "y = list(dict2.values())\n",
    "\n",
    "plt.bar(x, y, color = \"darkblue\")\n",
    "\n",
    "plt.title(\"DNA sequence 2\")\n",
    "plt.xlabel(\"DNA letters\")\n",
    "plt.ylabel(\"frequency\")\n",
    "plt.show()"
   ]
  },
  {
   "cell_type": "markdown",
   "id": "eff3c921",
   "metadata": {},
   "source": [
    "Bar chart 'seq 3'"
   ]
  },
  {
   "cell_type": "code",
   "execution_count": null,
   "id": "8cca4477",
   "metadata": {},
   "outputs": [],
   "source": [
    "x = list(dict3.keys())\n",
    "y = list(dict3.values())\n",
    "\n",
    "plt.bar(x, y, color = \"purple\")\n",
    "\n",
    "plt.title(\"DNA sequence 3\")\n",
    "plt.xlabel(\"DNA letters\")\n",
    "plt.ylabel(\"frequency\")\n",
    "plt.show()"
   ]
  },
  {
   "cell_type": "markdown",
   "id": "89359236",
   "metadata": {},
   "source": [
    "Bar chart 'seq 4'"
   ]
  },
  {
   "cell_type": "code",
   "execution_count": null,
   "id": "126d9dba",
   "metadata": {},
   "outputs": [],
   "source": [
    "x = list(dict4.keys())\n",
    "y = list(dict4.values())\n",
    "\n",
    "plt.bar(x, y, color = \"lightgreen\")\n",
    "\n",
    "plt.title(\"DNA sequence 4\")\n",
    "plt.xlabel(\"DNA letters\")\n",
    "plt.ylabel(\"frequency\")\n",
    "plt.show()"
   ]
  },
  {
   "cell_type": "markdown",
   "id": "dd5a6809",
   "metadata": {},
   "source": [
    "# Task 2\n",
    "- define a function by:\n",
    "- `def` funtion name():\n",
    "-   print(\"what you want the function ta say\")\n",
    "- functions name"
   ]
  },
  {
   "cell_type": "markdown",
   "id": "ee5d5a4c",
   "metadata": {},
   "source": [
    "Vad jag ska göra:\n",
    "1. skapa en funktion som kan: \n",
    "2. läsa in en fil, oavsätt om den har fler eller en rad. "
   ]
  },
  {
   "cell_type": "code",
   "execution_count": null,
   "id": "8ee7091a",
   "metadata": {},
   "outputs": [
    {
     "data": {
      "text/plain": [
       "{'SEQ1': 'CGTAACCAATAAAAAAACAAGCTTAACCTAATTC',\n",
       " 'SEQ2': 'AGCTTAGTTTGGATCTGGCCGGGG',\n",
       " 'SEQ3': 'GCGGATTTACTCCCCCCAAAAANNAGGGGAGAGCCCAGATAAATGGAGTCTGTGCGTCCACAGAATTCGCACCAAATAAAACCTCACCCATAGAGCCCAGAATTTACTCCCC',\n",
       " 'SEQ4': 'GCGGATTTACTCAGGGGAGAGCCCAGGGATAAATGGAGTCTGTGCGTCCACAGAATTCGCACCA'}"
      ]
     },
     "execution_count": 32,
     "metadata": {},
     "output_type": "execute_result"
    }
   ],
   "source": [
    "# I start by creating the 'function'\n",
    "def seq_file(filename):\n",
    "    # Then i create an empty dictionary (like before) to store the key (titels) and values (letters)\n",
    "    text_dict = {} \n",
    "    # and a variable assigned a 'null value' to store keys (titels)\n",
    "    text_key = None \n",
    "\n",
    "    # As before, I open the txt-file in read mode\n",
    "    with open(filename, 'r') as f: \n",
    "        # To avoid issuse I make all letters in the file to upper() and \n",
    "        # splitlines() to make every line a seperate line\n",
    "        file_text = f.read().upper().splitlines() \n",
    "        \n",
    "        # Then i loop through each line in the text file\n",
    "        for i in file_text: \n",
    "            # I use the startswith()-method to see if the line starts with '>',\n",
    "            # and then for is a title. \n",
    "            if i.startswith('>'): \n",
    "                text_key = i[1:] # i[1:] to remove '>' (just to make it look better)\n",
    "                # Adding each \"title\" (key) to the dictionary and saving it as a key by: \n",
    "                text_dict[text_key] = \"\" # the value is empty for now\n",
    "                \n",
    "            else:\n",
    "                # If the line doesn't starts with '>' then its (hopefully) the text with letters\n",
    "                # and then its added to the dictionary as a value\n",
    "                text_dict[text_key] += i.strip()#strip() is just to remove (if there's any) spaces\n",
    "    \n",
    "    # Then I want to return the dictionary back to my function \n",
    "    return text_dict\n",
    "        \n",
    "# Testing with the \"dna_raw_complicated\"- textfile \n",
    "seq_file(\"dna_raw_complicated.txt\")\n",
    "\n",
    "#IT WORKS, YEY ME!\n",
    "        \n",
    "\n",
    "       \n",
    "        \n"
   ]
  }
 ],
 "metadata": {
  "kernelspec": {
   "display_name": "LAB1_Lisa_yllander_DE25",
   "language": "python",
   "name": "python3"
  },
  "language_info": {
   "codemirror_mode": {
    "name": "ipython",
    "version": 3
   },
   "file_extension": ".py",
   "mimetype": "text/x-python",
   "name": "python",
   "nbconvert_exporter": "python",
   "pygments_lexer": "ipython3",
   "version": "3.12.10"
  }
 },
 "nbformat": 4,
 "nbformat_minor": 5
}
