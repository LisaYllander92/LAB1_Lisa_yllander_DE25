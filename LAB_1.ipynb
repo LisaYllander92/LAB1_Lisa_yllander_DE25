{
 "cells": [
  {
   "cell_type": "markdown",
   "id": "580ec13f",
   "metadata": {},
   "source": [
    "# Task 1\n",
    "- install virtuel inviorment, ipykernel, matplotlib\n",
    "- open text file"
   ]
  },
  {
   "cell_type": "code",
   "execution_count": 9,
   "id": "ce170b3f",
   "metadata": {},
   "outputs": [],
   "source": [
    "# Importing regular expression to work with pattern in the file\n",
    "import re \n",
    "# Importing matplotlib to draw graphs (later)\n",
    "import numpy as np\n",
    "import matplotlib.pyplot as plt\n"
   ]
  },
  {
   "cell_type": "code",
   "execution_count": null,
   "id": "97f33fd6",
   "metadata": {},
   "outputs": [],
   "source": [
    "# I will start by opening the text file in 'r' (read) mode\n",
    "# Saving the text file to a variable for comfort\n",
    "dna_path = \"dna_raw.txt\"\n",
    "\n",
    "# Using the \"with open\" statement to automatacally close the file \n",
    "with open(dna_path, 'r') as f_read:\n",
    "    dnas = f_read.read().upper() # using the upper() method to make all letters small\n",
    "    print(dnas)"
   ]
  },
  {
   "cell_type": "markdown",
   "id": "030029e6",
   "metadata": {},
   "source": [
    "#### Create dictionary"
   ]
  },
  {
   "cell_type": "code",
   "execution_count": null,
   "id": "ab8425c6",
   "metadata": {},
   "outputs": [],
   "source": [
    "# Opening the file in 'w' (write) mode to save changes in file \n",
    "with open(dna_path, 'w') as f_write:\n",
    "    f_write.write(dnas)\n",
    "\n",
    "with open(dna_path, 'r') as f_read:\n",
    "    # Using splitlines method to split the string into a list to divied each line to an item\n",
    "    lines = f_read.read().splitlines()\n",
    "    #print(lines)\n",
    "\n",
    "    # I create a empty dictionaryto store the 'keys' and 'value'\n",
    "    seq_dict = {}\n",
    "\n",
    "    # Now i want to loop through and combine ID with the sequence of data\n",
    "    # I use the range()-function to create a sequence of index that goes through the\n",
    "    # list (lines) two step at a time...\n",
    "    # len()-function to get the lenth of the list and stop when the list ends\n",
    "    for i in range(0, len(lines), 2):\n",
    "        # I save the item (>seq) from index 0 (i) in variable seq_id...\n",
    "        seq_id = lines[i]\n",
    "        # and the data ('letters') in variable seq_dna \n",
    "        seq_dna = lines[i+1]\n",
    "        # Here a add the data to my dictionary:\n",
    "        # seq_dict[seq_id] = key (ex >seq1)\n",
    "        # = seq_dna = value (ex 'ABCCAB')\n",
    "        seq_dict[seq_id] = seq_dna\n",
    "#print(seq_dict)\n",
    "\n",
    "for key, value in seq_dict.items():\n",
    "    print(key)\n",
    "    print(value)\n",
    "\n",
    "\n",
    "\n",
    "    \n",
    "\n",
    "\n",
    "        \n"
   ]
  },
  {
   "cell_type": "markdown",
   "id": "b7f84b36",
   "metadata": {},
   "source": [
    "#### Count the letters"
   ]
  },
  {
   "cell_type": "code",
   "execution_count": null,
   "id": "87f8c2ac",
   "metadata": {},
   "outputs": [],
   "source": [
    "# I import Counter (a subclass for dict, tip from Geeksforgeeks) \n",
    "from collections import Counter\n",
    "\n",
    "# I create dictionarys to store key and values from each sequence\n",
    "dict1 = {}\n",
    "dict2 = {}\n",
    "dict3 = {}\n",
    "dict4 = {}\n",
    "\n",
    "try:\n",
    "    # I loop through \n",
    "    # I use the items() to return a list containing a tuple for each key value pair ex. [(key1, value1)]\n",
    "    # enumerate(..) adds an index (i) to each pair so that i = 0 (seq_id = 'seq1', letters = 'ACGAT..') etc\n",
    "    for i, (seq_id, letters) in enumerate(seq_dict.items()):\n",
    "        # Then i use 'Counter' to count each letter in the string 'letters'\n",
    "        # Saves the counted letters in 'count'\n",
    "        count = Counter(letters)\n",
    "        \n",
    "        # Then a use if and elif to add each key and value to its own dictionary\n",
    "        # so that the letters become keys, and the numbers become values.\n",
    "        if i == 0:\n",
    "            dict1 = dict(count)\n",
    "        elif i == 1:\n",
    "            dict2 = dict(count)\n",
    "        elif i == 2:\n",
    "            dict3 = dict(count)\n",
    "        elif i == 3:\n",
    "            dict4 = dict(count)\n",
    "    print(f\"Dict 1: {dict1}\\nDict 2: {dict2}\\nDict 3: {dict3}\\nDict 4: {dict4}\")\n",
    "except SyntaxError: \n",
    "    print(\"There was a syntax error, maybe you forgot a comma\")\n",
    "except:\n",
    "    print(\"Something went wrong, check the code\")"
   ]
  },
  {
   "cell_type": "markdown",
   "id": "30371974",
   "metadata": {},
   "source": [
    "#### Plot bar charts"
   ]
  },
  {
   "cell_type": "markdown",
   "id": "c33536e1",
   "metadata": {},
   "source": [
    "Bar chart 'Seq 1'"
   ]
  },
  {
   "cell_type": "code",
   "execution_count": null,
   "id": "9a397cf8",
   "metadata": {},
   "outputs": [],
   "source": [
    "# I convert my dict to a list and assign the key (the letters) from 'dict1' to 'x'\n",
    "x = list(dict1.keys())\n",
    "# and the value from 'dict1' to 'y'\n",
    "y = list(dict1.values())\n",
    "\n",
    "# Then i do plt.bar to get a bar chart with the value of x and y, color is just for fun\n",
    "plt.bar(x, y, color = \"pink\")\n",
    "\n",
    "plt.title(\"DNA sequence 1\")\n",
    "plt.xlabel(\"DNA letters\")\n",
    "plt.ylabel(\"frequency\")\n",
    "plt.show()\n"
   ]
  },
  {
   "cell_type": "markdown",
   "id": "f25cba4b",
   "metadata": {},
   "source": [
    "Bar chart 'seq 2'"
   ]
  },
  {
   "cell_type": "code",
   "execution_count": null,
   "id": "33d7c452",
   "metadata": {},
   "outputs": [],
   "source": [
    "x = list(dict2.keys())\n",
    "y = list(dict2.values())\n",
    "\n",
    "plt.bar(x, y, color = \"darkblue\")\n",
    "\n",
    "plt.title(\"DNA sequence 2\")\n",
    "plt.xlabel(\"DNA letters\")\n",
    "plt.ylabel(\"frequency\")\n",
    "plt.show()"
   ]
  },
  {
   "cell_type": "markdown",
   "id": "eff3c921",
   "metadata": {},
   "source": [
    "Bar chart 'seq 3'"
   ]
  },
  {
   "cell_type": "code",
   "execution_count": null,
   "id": "8cca4477",
   "metadata": {},
   "outputs": [],
   "source": [
    "x = list(dict3.keys())\n",
    "y = list(dict3.values())\n",
    "\n",
    "plt.bar(x, y, color = \"purple\")\n",
    "\n",
    "plt.title(\"DNA sequence 3\")\n",
    "plt.xlabel(\"DNA letters\")\n",
    "plt.ylabel(\"frequency\")\n",
    "plt.show()"
   ]
  },
  {
   "cell_type": "markdown",
   "id": "89359236",
   "metadata": {},
   "source": [
    "Bar chart 'seq 4'"
   ]
  },
  {
   "cell_type": "code",
   "execution_count": null,
   "id": "126d9dba",
   "metadata": {},
   "outputs": [],
   "source": [
    "x = list(dict4.keys())\n",
    "y = list(dict4.values())\n",
    "\n",
    "plt.bar(x, y, color = \"lightgreen\")\n",
    "\n",
    "plt.title(\"DNA sequence 4\")\n",
    "plt.xlabel(\"DNA letters\")\n",
    "plt.ylabel(\"frequency\")\n",
    "plt.show()"
   ]
  },
  {
   "cell_type": "markdown",
   "id": "dd5a6809",
   "metadata": {},
   "source": [
    "# Task 2\n",
    "- define a function by:\n",
    "- `def` funtion name():\n",
    "-   print(\"what you want the function ta say\")\n",
    "- functions name"
   ]
  },
  {
   "cell_type": "markdown",
   "id": "ee5d5a4c",
   "metadata": {},
   "source": [
    "Vad jag ska göra:\n",
    "1. skapa en funktion som kan: \n",
    "2. läsa in en fil, oavsätt om den har fler eller en rad. "
   ]
  },
  {
   "cell_type": "code",
   "execution_count": null,
   "id": "8ee7091a",
   "metadata": {},
   "outputs": [
    {
     "ename": "FileNotFoundError",
     "evalue": "[Errno 2] No such file or directory: \"Here's your textfile: dna_raw_complicated.txt\"",
     "output_type": "error",
     "traceback": [
      "\u001b[31m---------------------------------------------------------------------------\u001b[39m",
      "\u001b[31mFileNotFoundError\u001b[39m                         Traceback (most recent call last)",
      "\u001b[36mCell\u001b[39m\u001b[36m \u001b[39m\u001b[32mIn[28]\u001b[39m\u001b[32m, line 23\u001b[39m\n\u001b[32m     18\u001b[39m         \u001b[38;5;28;01mreturn\u001b[39;00m text_dict\n\u001b[32m     21\u001b[39m filename = \u001b[33m\"\u001b[39m\u001b[33mdna_raw_complicated.txt\u001b[39m\u001b[33m\"\u001b[39m\n\u001b[32m---> \u001b[39m\u001b[32m23\u001b[39m \u001b[43mseq_file\u001b[49m\u001b[43m(\u001b[49m\u001b[33;43mf\u001b[39;49m\u001b[33;43m\"\u001b[39;49m\u001b[33;43mHere\u001b[39;49m\u001b[33;43m'\u001b[39;49m\u001b[33;43ms your textfile: \u001b[39;49m\u001b[38;5;132;43;01m{\u001b[39;49;00m\u001b[43mfilename\u001b[49m\u001b[38;5;132;43;01m}\u001b[39;49;00m\u001b[33;43m\"\u001b[39;49m\u001b[43m)\u001b[49m\n",
      "\u001b[36mCell\u001b[39m\u001b[36m \u001b[39m\u001b[32mIn[28]\u001b[39m\u001b[32m, line 4\u001b[39m, in \u001b[36mseq_file\u001b[39m\u001b[34m(filename)\u001b[39m\n\u001b[32m      1\u001b[39m \u001b[38;5;28;01mdef\u001b[39;00m\u001b[38;5;250m \u001b[39m\u001b[34mseq_file\u001b[39m (filename):\n\u001b[32m      2\u001b[39m     text_dict = {} \u001b[38;5;66;03m# skapar en dict att spara \"titel\" (key) och \"text\" (value)\u001b[39;00m\n\u001b[32m----> \u001b[39m\u001b[32m4\u001b[39m     \u001b[38;5;28;01mwith\u001b[39;00m \u001b[38;5;28;43mopen\u001b[39;49m\u001b[43m(\u001b[49m\u001b[43mfilename\u001b[49m\u001b[43m,\u001b[49m\u001b[43m \u001b[49m\u001b[33;43m'\u001b[39;49m\u001b[33;43mr\u001b[39;49m\u001b[33;43m'\u001b[39;49m\u001b[43m)\u001b[49m \u001b[38;5;28;01mas\u001b[39;00m f: \u001b[38;5;66;03m#öppnas i read mode\u001b[39;00m\n\u001b[32m      5\u001b[39m         file_text = f.read().upper().splitlines() \u001b[38;5;66;03m# gör om alla bokstäver till stora och delar upp varje rad\u001b[39;00m\n\u001b[32m      7\u001b[39m         text_key = \u001b[38;5;28;01mNone\u001b[39;00m \u001b[38;5;66;03m#tom variable till titlar (keys)\u001b[39;00m\n",
      "\u001b[36mFile \u001b[39m\u001b[32mc:\\Users\\lisay\\Documents\\Python_DE25_Lisa_Yllander\\LAB_1\\LAB1_Lisa_yllander_DE25\\.venv\\Lib\\site-packages\\IPython\\core\\interactiveshell.py:343\u001b[39m, in \u001b[36m_modified_open\u001b[39m\u001b[34m(file, *args, **kwargs)\u001b[39m\n\u001b[32m    336\u001b[39m \u001b[38;5;28;01mif\u001b[39;00m file \u001b[38;5;129;01min\u001b[39;00m {\u001b[32m0\u001b[39m, \u001b[32m1\u001b[39m, \u001b[32m2\u001b[39m}:\n\u001b[32m    337\u001b[39m     \u001b[38;5;28;01mraise\u001b[39;00m \u001b[38;5;167;01mValueError\u001b[39;00m(\n\u001b[32m    338\u001b[39m         \u001b[33mf\u001b[39m\u001b[33m\"\u001b[39m\u001b[33mIPython won\u001b[39m\u001b[33m'\u001b[39m\u001b[33mt let you open fd=\u001b[39m\u001b[38;5;132;01m{\u001b[39;00mfile\u001b[38;5;132;01m}\u001b[39;00m\u001b[33m by default \u001b[39m\u001b[33m\"\u001b[39m\n\u001b[32m    339\u001b[39m         \u001b[33m\"\u001b[39m\u001b[33mas it is likely to crash IPython. If you know what you are doing, \u001b[39m\u001b[33m\"\u001b[39m\n\u001b[32m    340\u001b[39m         \u001b[33m\"\u001b[39m\u001b[33myou can use builtins\u001b[39m\u001b[33m'\u001b[39m\u001b[33m open.\u001b[39m\u001b[33m\"\u001b[39m\n\u001b[32m    341\u001b[39m     )\n\u001b[32m--> \u001b[39m\u001b[32m343\u001b[39m \u001b[38;5;28;01mreturn\u001b[39;00m \u001b[43mio_open\u001b[49m\u001b[43m(\u001b[49m\u001b[43mfile\u001b[49m\u001b[43m,\u001b[49m\u001b[43m \u001b[49m\u001b[43m*\u001b[49m\u001b[43margs\u001b[49m\u001b[43m,\u001b[49m\u001b[43m \u001b[49m\u001b[43m*\u001b[49m\u001b[43m*\u001b[49m\u001b[43mkwargs\u001b[49m\u001b[43m)\u001b[49m\n",
      "\u001b[31mFileNotFoundError\u001b[39m: [Errno 2] No such file or directory: \"Here's your textfile: dna_raw_complicated.txt\""
     ]
    }
   ],
   "source": [
    "def seq_file (filename):\n",
    "    text_dict = {} # skapar en dict att spara \"titel\" (key) och \"text\" (value)\n",
    "\n",
    "    with open(filename, 'r') as f: #öppnas i read mode\n",
    "        file_text = f.read().upper().splitlines() # gör om alla bokstäver till stora och delar upp varje rad\n",
    "        \n",
    "        text_key = None #tom variable till titlar (keys)\n",
    "        \n",
    "\n",
    "        for i in file_text: #loopar igenom längden på den inmatade filen\n",
    "            if i.startswith('>'): #om raden börjar med '>' är det titel\n",
    "                text_key = i[1:] #för att inte '>' ska komma med\n",
    "                text_dict[text_key] = \"\" # lägger till varje enskild \"titel\" som key i text_dict\n",
    "                \n",
    "            else:\n",
    "                text_dict[text_key] += i.strip() #lägger till allt som kommer efter \"titel\" som value (strip() för att ta bort eventuella mellanslag)\n",
    "            \n",
    "    return text_dict\n",
    "        \n",
    "\n",
    "filename = \"dna_raw_complicated.txt\"\n",
    "\n",
    "seq_file(f\"Here's your textfile: {filename}\")\n",
    "        \n",
    "\n",
    "       \n",
    "        \n"
   ]
  }
 ],
 "metadata": {
  "kernelspec": {
   "display_name": "LAB1_Lisa_yllander_DE25",
   "language": "python",
   "name": "python3"
  },
  "language_info": {
   "codemirror_mode": {
    "name": "ipython",
    "version": 3
   },
   "file_extension": ".py",
   "mimetype": "text/x-python",
   "name": "python",
   "nbconvert_exporter": "python",
   "pygments_lexer": "ipython3",
   "version": "3.12.10"
  }
 },
 "nbformat": 4,
 "nbformat_minor": 5
}
